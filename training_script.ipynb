{
 "cells": [
  {
   "cell_type": "code",
   "execution_count": 6,
   "metadata": {},
   "outputs": [],
   "source": [
    "FOLDERNAME = 'Data'\n",
    "assert FOLDERNAME is not None, \"[!] Enter the foldername.\"\n",
    "\n",
    "# now that we've mounted your Drive, this ensures that\n",
    "# the Python interpreter of the Colab VM can load\n",
    "# python files from within it.\n",
    "import sys\n",
    "import os\n",
    "# sys.path.append('/content/drive/Shared drives/ACMLab Project/{}'.format(FOLDERNAME))\n",
    "\n",
    "# %cd "
   ]
  },
  {
   "cell_type": "code",
   "execution_count": 7,
   "metadata": {},
   "outputs": [
    {
     "name": "stdout",
     "output_type": "stream",
     "text": [
      "16zpallnoagi.csv     lightning_logs  tiles_to_income_test.csv\tworldelev.npy\r\n",
      "get_tile_incomes.py  model.pth\t     tiles_to_income_train.csv\tziplatlon.csv\r\n",
      "imagery\t\t     pretrained.pth  util.py\r\n",
      "images.ipynb\t     test_imagery    webmercator.py\r\n"
     ]
    }
   ],
   "source": [
    "!ls"
   ]
  },
  {
   "cell_type": "code",
   "execution_count": 8,
   "metadata": {},
   "outputs": [],
   "source": [
    "# Importing the standard ML libraries...\n",
    "%load_ext autoreload\n",
    "%autoreload 2\n",
    "\n",
    "import pandas as pd                     # to process our data\n",
    "import matplotlib.pyplot as plt         # graphing\n",
    "import numpy as np                      # matrices\n",
    "\n",
    "import torch\n",
    "import torchvision                      # for MNIST dataset/working with images\n",
    "\n",
    "import os\n",
    "from PIL import Image\n",
    "import cv2"
   ]
  },
  {
   "cell_type": "code",
   "execution_count": 33,
   "metadata": {},
   "outputs": [],
   "source": [
    "torch.cuda.set_device(0)"
   ]
  },
  {
   "cell_type": "code",
   "execution_count": 34,
   "metadata": {},
   "outputs": [],
   "source": [
    "tile_incomes_data_train = pd.read_csv('tiles_to_income_train.csv')\n",
    "msk = np.random.rand(len(tile_incomes_data_train)) < 0.8\n",
    "train = tile_incomes_data_train[msk]\n",
    "test = tile_incomes_data_train[~msk]\n",
    "\n",
    "tile_incomes_data_test = pd.read_csv('tiles_to_income_test.csv')"
   ]
  },
  {
   "cell_type": "code",
   "execution_count": 35,
   "metadata": {},
   "outputs": [],
   "source": [
    "tiles_to_avg_income_train = {}\n",
    "for row in train.iterrows():\n",
    "    tiles_to_avg_income_train[(int(row[1][0]), int(row[1][1]))] = row[1][2]\n",
    "    \n",
    "tiles_to_avg_income_test = {}\n",
    "for row in test.iterrows():\n",
    "    tiles_to_avg_income_test[(int(row[1][0]), int(row[1][1]))] = row[1][2]"
   ]
  },
  {
   "cell_type": "code",
   "execution_count": 36,
   "metadata": {},
   "outputs": [],
   "source": [
    "labels = [tiles_to_avg_income_test[key] for key in tiles_to_avg_income_test.keys()] + [tiles_to_avg_income_train[key] for key in tiles_to_avg_income_train.keys()]"
   ]
  },
  {
   "cell_type": "code",
   "execution_count": 37,
   "metadata": {},
   "outputs": [],
   "source": [
    "train_labels = [tiles_to_avg_income_train[key] for key in tiles_to_avg_income_train.keys()]\n",
    "test_labels = [tiles_to_avg_income_test[key] for key in tiles_to_avg_income_test.keys()] "
   ]
  },
  {
   "cell_type": "code",
   "execution_count": 38,
   "metadata": {},
   "outputs": [
    {
     "data": {
      "text/plain": [
       "(array([25., 49., 36., 21., 29., 23., 34., 14., 23.,  7.,  0.,  3.,  3.,\n",
       "         0.,  0.,  0.,  1.,  1.,  1.,  0.,  0.,  7.,  3.,  2.,  2.,  0.,\n",
       "         1.,  1.,  0.,  0.,  0.,  0.,  0.,  0.,  0.,  0.,  0.,  0.,  2.,\n",
       "         5.,  0.,  0.,  0.,  0.,  0.,  0.,  0.,  0.,  1.,  1.]),\n",
       " array([ 26.77940638,  38.93114419,  51.08288201,  63.23461982,\n",
       "         75.38635764,  87.53809545,  99.68983326, 111.84157108,\n",
       "        123.99330889, 136.14504671, 148.29678452, 160.44852234,\n",
       "        172.60026015, 184.75199797, 196.90373578, 209.0554736 ,\n",
       "        221.20721141, 233.35894923, 245.51068704, 257.66242486,\n",
       "        269.81416267, 281.96590049, 294.1176383 , 306.26937612,\n",
       "        318.42111393, 330.57285175, 342.72458956, 354.87632738,\n",
       "        367.02806519, 379.17980301, 391.33154082, 403.48327864,\n",
       "        415.63501645, 427.78675427, 439.93849208, 452.0902299 ,\n",
       "        464.24196771, 476.39370552, 488.54544334, 500.69718115,\n",
       "        512.84891897, 525.00065678, 537.1523946 , 549.30413241,\n",
       "        561.45587023, 573.60760804, 585.75934586, 597.91108367,\n",
       "        610.06282149, 622.2145593 , 634.36629712]),\n",
       " <BarContainer object of 50 artists>)"
      ]
     },
     "execution_count": 38,
     "metadata": {},
     "output_type": "execute_result"
    },
    {
     "data": {
      "image/png": "[encoded data removed]",
      "text/plain": [
       "<Figure size 432x288 with 1 Axes>"
      ]
     },
     "metadata": {
      "needs_background": "light"
     },
     "output_type": "display_data"
    }
   ],
   "source": [
    "plt.hist(train_labels, bins=50)\n",
    "plt.hist(test_labels, bins=50)"
   ]
  },
  {
   "cell_type": "code",
   "execution_count": 39,
   "metadata": {},
   "outputs": [],
   "source": [
    "mean = np.mean(labels)\n",
    "std = np.std(labels)"
   ]
  },
  {
   "cell_type": "code",
   "execution_count": 40,
   "metadata": {},
   "outputs": [
    {
     "data": {
      "text/plain": [
       "103.30363299717398"
      ]
     },
     "execution_count": 40,
     "metadata": {},
     "output_type": "execute_result"
    }
   ],
   "source": [
    "mean"
   ]
  },
  {
   "cell_type": "code",
   "execution_count": 41,
   "metadata": {},
   "outputs": [],
   "source": [
    "class ImageDataset(torch.utils.data.Dataset):\n",
    "    def __init__(self, folder, tiles_to_avg_income, transforms = None):\n",
    "        self.img_shape = (256,256,3)\n",
    "        self.img_data = []\n",
    "        self.label_data = []\n",
    "        self.length = len(tiles_to_avg_income)\n",
    "        for tile in tiles_to_avg_income:\n",
    "            image_name = \"/14_\" + str(tile[0]) + \"_\" + str(tile[1]) + \".jpg\"\n",
    "            img = cv2.imread(folder + image_name)     #.flatten()\n",
    "            self.img_data.append(img)\n",
    "            self.label_data.append(tiles_to_avg_income[tile])\n",
    "        self.img_data = np.array(self.img_data).squeeze()\n",
    "        self.img_data = np.squeeze(self.img_data)\n",
    "        self.label_data = np.array(self.label_data)\n",
    "        if (transforms != None):\n",
    "            self.label_data = np.clip(self.label_data, 0, 500)\n",
    "        self.label_data -= mean\n",
    "        self.label_data /= std\n",
    "        self.images = np.array(self.img_data)\n",
    "        self.labels = np.array(self.label_data)\n",
    "        self.transforms = transforms\n",
    "        \n",
    "    def __len__(self):\n",
    "        return self.length # this should return the number of elements in your dataset\n",
    "    \n",
    "    def __getitem__(self, idx):\n",
    "        image = self.images[idx]\n",
    "        label = self.labels[idx]\n",
    "        transform = None\n",
    "        if (self.transforms != None):\n",
    "            transform = self.transforms[random.randrange(0,len(self.transforms))]\n",
    "        if (transform is not None):\n",
    "            image = transform(Image.fromarray(np.uint8(image)))\n",
    "            image = np.array(image)\n",
    "        image = torch.tensor(image, dtype=torch.float32).permute(2,0,1)\n",
    "        return image, torch.tensor(label, dtype=torch.float32)\n",
    "        #return image, label # this should return a tuple of (image, label)\n",
    "                              # where `image` is the image as a tensor\n",
    "                              # and `label` is the ground truth label as a float"
   ]
  },
  {
   "cell_type": "code",
   "execution_count": 42,
   "metadata": {},
   "outputs": [],
   "source": [
    "import random"
   ]
  },
  {
   "cell_type": "code",
   "execution_count": 43,
   "metadata": {},
   "outputs": [],
   "source": [
    "from torchvision.transforms import *"
   ]
  },
  {
   "cell_type": "code",
   "execution_count": 44,
   "metadata": {},
   "outputs": [],
   "source": [
    "crop = RandomResizedCrop((256,256), scale=(0.2, 1.0))\n",
    "rotate = RandomAffine(20)\n",
    "translate = RandomAffine(0,(0.3,0.3))\n",
    "hflip = RandomHorizontalFlip(p=1.0)\n",
    "vflip = RandomVerticalFlip(p=1.0)\n",
    "transforms = [crop, rotate, hflip, vflip, translate, None]\n",
    "# transforms = [translate, None]"
   ]
  },
  {
   "cell_type": "code",
   "execution_count": 45,
   "metadata": {
    "scrolled": true
   },
   "outputs": [],
   "source": [
    "train_dataset = ImageDataset(\"imagery\", tiles_to_avg_income_train, transforms)"
   ]
  },
  {
   "cell_type": "code",
   "execution_count": 46,
   "metadata": {
    "scrolled": true
   },
   "outputs": [],
   "source": [
    "test_dataset = ImageDataset(\"imagery\", tiles_to_avg_income_test)"
   ]
  },
  {
   "cell_type": "code",
   "execution_count": 47,
   "metadata": {},
   "outputs": [],
   "source": [
    "batch_size = 64\n",
    "trainloader = torch.utils.data.DataLoader(train_dataset, batch_size=batch_size, shuffle=True)\n",
    "testloader = torch.utils.data.DataLoader(test_dataset, batch_size=batch_size, shuffle=False)"
   ]
  },
  {
   "cell_type": "code",
   "execution_count": 48,
   "metadata": {},
   "outputs": [],
   "source": [
    "import torch.nn as nn\n",
    "import torch.nn.functional as F"
   ]
  },
  {
   "cell_type": "code",
   "execution_count": 49,
   "metadata": {},
   "outputs": [],
   "source": [
    "import torch.nn as nn\n",
    "import torch.nn.functional as F\n",
    "    \n",
    "class InceptionBlock(nn.Module):\n",
    "    def __init__(self, in1, out):\n",
    "        super(InceptionBlock, self).__init__()\n",
    "        self.act = nn.PReLU()\n",
    "        self.convBlock1 = nn.Sequential(\n",
    "            nn.Conv2d(in1, out, 5, stride = 2,  padding=2),\n",
    "            nn.BatchNorm2d(out),\n",
    "            self.act,\n",
    "            nn.MaxPool2d(2)\n",
    "        )\n",
    "        self.convBlock2 = nn.Sequential(\n",
    "            nn.Conv2d(in1, out, 3, stride = 2,  padding=1),\n",
    "            nn.BatchNorm2d(out),\n",
    "            self.act,\n",
    "            nn.MaxPool2d(2)\n",
    "        )\n",
    "        self.convBlock3 = nn.Sequential(\n",
    "            nn.Conv2d(in1, out, 7, stride = 2,  padding=3),\n",
    "            nn.BatchNorm2d(out),\n",
    "            self.act,\n",
    "            nn.MaxPool2d(2)\n",
    "        )\n",
    "    def forward(self, x):\n",
    "        a = self.convBlock1(x)\n",
    "        b = self.convBlock2(x)\n",
    "        c = self.convBlock3(x)\n",
    "        return a+b+c\n",
    "\n",
    "class ConvolutionalNeuralNet(nn.Module):\n",
    "    def __init__(self):\n",
    "        super(ConvolutionalNeuralNet, self).__init__()\n",
    "        self.act = nn.PReLU()\n",
    "        self.act2 = nn.Sigmoid()\n",
    "        \n",
    "        self.convBlock1 = InceptionBlock(3,32)\n",
    "        self.convBlock2 = InceptionBlock(32,64)\n",
    "        self.convBlock3 = InceptionBlock(64,128)\n",
    "        self.convBlock4 = InceptionBlock(128,256)\n",
    "\n",
    "        self.drop = nn.Dropout(p=0.2)\n",
    "        self.fc1 = nn.Linear(256, 128)\n",
    "        self.fc2 = nn.Linear(128, 64)\n",
    "        self.fc3 = nn.Linear(64, 1)\n",
    "\n",
    "    def forward(self, x):\n",
    "        x = self.convBlock1(x)\n",
    "        x = self.convBlock2(x)\n",
    "        x = self.convBlock3(x)\n",
    "        x = self.convBlock4(x)\n",
    "        x = x.view(-1, 256 * 1 * 1)\n",
    "        x = self.drop(self.act2(self.fc1(x)))\n",
    "        x = self.drop(self.act2(self.fc2(x)))\n",
    "        x = self.fc3(x)\n",
    "        return x.squeeze()"
   ]
  },
  {
   "cell_type": "code",
   "execution_count": 50,
   "metadata": {
    "scrolled": true
   },
   "outputs": [
    {
     "name": "stdout",
     "output_type": "stream",
     "text": [
      "----------------------------------------------------------------\n",
      "        Layer (type)               Output Shape         Param #\n",
      "================================================================\n",
      "            Conv2d-1         [-1, 32, 128, 128]           2,432\n",
      "       BatchNorm2d-2         [-1, 32, 128, 128]              64\n",
      "             PReLU-3         [-1, 32, 128, 128]               1\n",
      "             PReLU-4         [-1, 32, 128, 128]               1\n",
      "             PReLU-5         [-1, 32, 128, 128]               1\n",
      "             PReLU-6         [-1, 32, 128, 128]               1\n",
      "         MaxPool2d-7           [-1, 32, 64, 64]               0\n",
      "            Conv2d-8         [-1, 32, 128, 128]             896\n",
      "       BatchNorm2d-9         [-1, 32, 128, 128]              64\n",
      "            PReLU-10         [-1, 32, 128, 128]               1\n",
      "            PReLU-11         [-1, 32, 128, 128]               1\n",
      "            PReLU-12         [-1, 32, 128, 128]               1\n",
      "            PReLU-13         [-1, 32, 128, 128]               1\n",
      "        MaxPool2d-14           [-1, 32, 64, 64]               0\n",
      "           Conv2d-15         [-1, 32, 128, 128]           4,736\n",
      "      BatchNorm2d-16         [-1, 32, 128, 128]              64\n",
      "            PReLU-17         [-1, 32, 128, 128]               1\n",
      "            PReLU-18         [-1, 32, 128, 128]               1\n",
      "            PReLU-19         [-1, 32, 128, 128]               1\n",
      "            PReLU-20         [-1, 32, 128, 128]               1\n",
      "        MaxPool2d-21           [-1, 32, 64, 64]               0\n",
      "   InceptionBlock-22           [-1, 32, 64, 64]               0\n",
      "           Conv2d-23           [-1, 64, 32, 32]          51,264\n",
      "      BatchNorm2d-24           [-1, 64, 32, 32]             128\n",
      "            PReLU-25           [-1, 64, 32, 32]               1\n",
      "            PReLU-26           [-1, 64, 32, 32]               1\n",
      "            PReLU-27           [-1, 64, 32, 32]               1\n",
      "            PReLU-28           [-1, 64, 32, 32]               1\n",
      "        MaxPool2d-29           [-1, 64, 16, 16]               0\n",
      "           Conv2d-30           [-1, 64, 32, 32]          18,496\n",
      "      BatchNorm2d-31           [-1, 64, 32, 32]             128\n",
      "            PReLU-32           [-1, 64, 32, 32]               1\n",
      "            PReLU-33           [-1, 64, 32, 32]               1\n",
      "            PReLU-34           [-1, 64, 32, 32]               1\n",
      "            PReLU-35           [-1, 64, 32, 32]               1\n",
      "        MaxPool2d-36           [-1, 64, 16, 16]               0\n",
      "           Conv2d-37           [-1, 64, 32, 32]         100,416\n",
      "      BatchNorm2d-38           [-1, 64, 32, 32]             128\n",
      "            PReLU-39           [-1, 64, 32, 32]               1\n",
      "            PReLU-40           [-1, 64, 32, 32]               1\n",
      "            PReLU-41           [-1, 64, 32, 32]               1\n",
      "            PReLU-42           [-1, 64, 32, 32]               1\n",
      "        MaxPool2d-43           [-1, 64, 16, 16]               0\n",
      "   InceptionBlock-44           [-1, 64, 16, 16]               0\n",
      "           Conv2d-45            [-1, 128, 8, 8]         204,928\n",
      "      BatchNorm2d-46            [-1, 128, 8, 8]             256\n",
      "            PReLU-47            [-1, 128, 8, 8]               1\n",
      "            PReLU-48            [-1, 128, 8, 8]               1\n",
      "            PReLU-49            [-1, 128, 8, 8]               1\n",
      "            PReLU-50            [-1, 128, 8, 8]               1\n",
      "        MaxPool2d-51            [-1, 128, 4, 4]               0\n",
      "           Conv2d-52            [-1, 128, 8, 8]          73,856\n",
      "      BatchNorm2d-53            [-1, 128, 8, 8]             256\n",
      "            PReLU-54            [-1, 128, 8, 8]               1\n",
      "            PReLU-55            [-1, 128, 8, 8]               1\n",
      "            PReLU-56            [-1, 128, 8, 8]               1\n",
      "            PReLU-57            [-1, 128, 8, 8]               1\n",
      "        MaxPool2d-58            [-1, 128, 4, 4]               0\n",
      "           Conv2d-59            [-1, 128, 8, 8]         401,536\n",
      "      BatchNorm2d-60            [-1, 128, 8, 8]             256\n",
      "            PReLU-61            [-1, 128, 8, 8]               1\n",
      "            PReLU-62            [-1, 128, 8, 8]               1\n",
      "            PReLU-63            [-1, 128, 8, 8]               1\n",
      "            PReLU-64            [-1, 128, 8, 8]               1\n",
      "        MaxPool2d-65            [-1, 128, 4, 4]               0\n",
      "   InceptionBlock-66            [-1, 128, 4, 4]               0\n",
      "           Conv2d-67            [-1, 256, 2, 2]         819,456\n",
      "      BatchNorm2d-68            [-1, 256, 2, 2]             512\n",
      "            PReLU-69            [-1, 256, 2, 2]               1\n",
      "            PReLU-70            [-1, 256, 2, 2]               1\n",
      "            PReLU-71            [-1, 256, 2, 2]               1\n",
      "            PReLU-72            [-1, 256, 2, 2]               1\n",
      "        MaxPool2d-73            [-1, 256, 1, 1]               0\n",
      "           Conv2d-74            [-1, 256, 2, 2]         295,168\n",
      "      BatchNorm2d-75            [-1, 256, 2, 2]             512\n",
      "            PReLU-76            [-1, 256, 2, 2]               1\n",
      "            PReLU-77            [-1, 256, 2, 2]               1\n",
      "            PReLU-78            [-1, 256, 2, 2]               1\n",
      "            PReLU-79            [-1, 256, 2, 2]               1\n",
      "        MaxPool2d-80            [-1, 256, 1, 1]               0\n",
      "           Conv2d-81            [-1, 256, 2, 2]       1,605,888\n",
      "      BatchNorm2d-82            [-1, 256, 2, 2]             512\n",
      "            PReLU-83            [-1, 256, 2, 2]               1\n",
      "            PReLU-84            [-1, 256, 2, 2]               1\n",
      "            PReLU-85            [-1, 256, 2, 2]               1\n",
      "            PReLU-86            [-1, 256, 2, 2]               1\n",
      "        MaxPool2d-87            [-1, 256, 1, 1]               0\n",
      "   InceptionBlock-88            [-1, 256, 1, 1]               0\n",
      "           Linear-89                  [-1, 128]          32,896\n",
      "          Sigmoid-90                  [-1, 128]               0\n",
      "          Dropout-91                  [-1, 128]               0\n",
      "           Linear-92                   [-1, 64]           8,256\n",
      "          Sigmoid-93                   [-1, 64]               0\n",
      "          Dropout-94                   [-1, 64]               0\n",
      "           Linear-95                    [-1, 1]              65\n",
      "================================================================\n",
      "Total params: 3,623,217\n",
      "Trainable params: 3,623,217\n",
      "Non-trainable params: 0\n",
      "----------------------------------------------------------------\n",
      "Input size (MB): 0.75\n",
      "Forward/backward pass size (MB): 86.84\n",
      "Params size (MB): 13.82\n",
      "Estimated Total Size (MB): 101.41\n",
      "----------------------------------------------------------------\n"
     ]
    }
   ],
   "source": [
    "from torchsummary import summary\n",
    "summary(ConvolutionalNeuralNet(), input_size=(3,256,256), device=\"cpu\")"
   ]
  },
  {
   "cell_type": "code",
   "execution_count": 132,
   "metadata": {
    "scrolled": true
   },
   "outputs": [
    {
     "name": "stdout",
     "output_type": "stream",
     "text": [
      "Epoch 0: 0.4814772550300632 Val: 0.5419065651226369\n",
      "Epoch 1: 0.4847436451591184 Val: 0.5169670606229085\n",
      "Epoch 2: 0.48007071371035726 Val: 0.5034466473315763\n",
      "Epoch 3: 0.4736311899706922 Val: 0.5025366890552507\n",
      "Epoch 4: 0.4665974689706024 Val: 0.5442697765884139\n",
      "Epoch 5: 0.4652449432509897 Val: 0.49167734608308444\n",
      "Epoch 6: 0.4619477113800733 Val: 0.4948506339011339\n",
      "Epoch 7: 0.45015162309723583 Val: 0.5846555013298581\n",
      "Epoch 8: 0.45456826419573726 Val: 0.5277107193201476\n",
      "Epoch 9: 0.4513655914854041 Val: 0.5189569427698546\n",
      "Epoch 10: 0.43868932852296016 Val: 0.5106009883685324\n",
      "Epoch 11: 0.4433459598387303 Val: 0.6135136535956998\n",
      "Epoch    12: reducing learning rate of group 0 to 2.0000e-04.\n",
      "Epoch 12: 0.4327781052867393 Val: 0.4623156993462364\n",
      "Epoch 13: 0.4281290131299485 Val: 0.6019314547854479\n",
      "Epoch 14: 0.427952431135648 Val: 0.47313800199853684\n",
      "Epoch 15: 0.42124077065643173 Val: 0.4642666826476009\n",
      "Epoch 16: 0.42320397210228067 Val: 0.4580308243683174\n",
      "Epoch 17: 0.42229916782122556 Val: 0.44751608982021085\n",
      "Epoch 18: 0.4180434701688621 Val: 0.4487593784267178\n",
      "Epoch 19: 0.4153541402431882 Val: 0.44981093292757107\n",
      "Epoch 20: 0.41185177858634914 Val: 0.5178853904021071\n",
      "Epoch 21: 0.4152076361959825 Val: 0.5231652276100965\n",
      "Epoch 22: 0.4135700097533085 Val: 0.4455852768933814\n",
      "Epoch 23: 0.41085602200084737 Val: 0.5409121399446559\n",
      "Epoch 24: 0.412087420818517 Val: 0.6292602063852772\n",
      "Epoch 25: 0.4142619509333452 Val: 0.4468383984354169\n",
      "Epoch 26: 0.4077300854327967 Val: 0.685072501771686\n",
      "Epoch 27: 0.40881721684750955 Val: 0.46972337273607484\n",
      "Epoch 28: 0.4133657891654113 Val: 0.5064313387301188\n",
      "Epoch    29: reducing learning rate of group 0 to 4.0000e-05.\n",
      "Epoch 29: 0.4013686227156977 Val: 0.4436752918230389\n",
      "Epoch 30: 0.40370565166387856 Val: 0.44122886657714844\n",
      "Epoch 31: 0.3977505688175492 Val: 0.4413850022664249\n",
      "Epoch 32: 0.4016878239242485 Val: 0.4439276216786876\n",
      "Epoch 33: 0.40391856822197747 Val: 0.4414270680919035\n",
      "Epoch 34: 0.39493607320058505 Val: 0.4414205258209958\n",
      "Epoch 35: 0.3942470567643375 Val: 0.4490568727356582\n",
      "Epoch 36: 0.39271359978235354 Val: 0.44187735860258237\n",
      "Epoch    37: reducing learning rate of group 0 to 8.0000e-06.\n",
      "Epoch 37: 0.3968207376420231 Val: 0.4392501030358845\n",
      "Epoch 38: 0.39645614110835464 Val: 0.4391535410702025\n",
      "Epoch 39: 0.3980788893763795 Val: 0.43982096987779634\n",
      "Epoch 40: 0.3974194069079754 Val: 0.4433883660482465\n",
      "Epoch 41: 0.39444722402256166 Val: 0.4401729766012459\n",
      "Epoch 42: 0.38867057834505503 Val: 0.44049677669798554\n",
      "Epoch 43: 0.39395329856017247 Val: 0.4413787008552421\n",
      "Epoch 44: 0.39766851091598715 Val: 0.4402423474568963\n",
      "Epoch    45: reducing learning rate of group 0 to 1.6000e-06.\n",
      "Epoch 45: 0.39330128126614833 Val: 0.44034749574628707\n",
      "Epoch 46: 0.3961403372041848 Val: 0.44081430467729277\n",
      "Epoch 47: 0.3936155259341937 Val: 0.4400029166159776\n",
      "Epoch 48: 0.3973903874110748 Val: 0.439359703975326\n",
      "Epoch 49: 0.3926104173531981 Val: 0.4408456294609825\n",
      "Epoch 50: 0.39673998537619554 Val: 0.44128059934023706\n",
      "Epoch    51: reducing learning rate of group 0 to 3.2000e-07.\n",
      "Epoch 51: 0.3906603586513365 Val: 0.44049532502991345\n",
      "Epoch 52: 0.3975156159678917 Val: 0.4406412209260179\n",
      "Epoch 53: 0.3993313733772312 Val: 0.4401069484879946\n",
      "Epoch 54: 0.39798699922091224 Val: 0.43914222717285156\n",
      "Epoch 55: 0.3924389244729628 Val: 0.44017408325403623\n",
      "Epoch 56: 0.3955168899399283 Val: 0.44000821878478796\n",
      "Epoch    57: reducing learning rate of group 0 to 6.4000e-08.\n",
      "Epoch 57: 0.3931662230213661 Val: 0.43952271718620844\n",
      "Epoch 58: 0.39858244566639445 Val: 0.43953365026480506\n",
      "Epoch 59: 0.39196038524131604 Val: 0.44003809515526676\n",
      "Epoch 60: 0.3972783204151376 Val: 0.4405898527073779\n",
      "Epoch 61: 0.3945478772903237 Val: 0.44132020449068765\n",
      "Epoch 62: 0.3935054445480552 Val: 0.44151154801300363\n",
      "Epoch    63: reducing learning rate of group 0 to 1.2800e-08.\n",
      "Epoch 63: 0.3937180634571298 Val: 0.44096562317207\n",
      "Epoch 64: 0.3981032315925632 Val: 0.4399217599081098\n",
      "Epoch 65: 0.39480492886940993 Val: 0.44049454711809904\n",
      "Epoch 66: 0.3930323322792224 Val: 0.44116347641668224\n",
      "Epoch 67: 0.3920409788465286 Val: 0.44082539724408565\n",
      "Epoch 68: 0.3970975251475792 Val: 0.4419872199309157\n",
      "Epoch    69: reducing learning rate of group 0 to 2.5600e-09.\n",
      "Epoch 69: 0.39164857222894917 Val: 0.44251386297440776\n",
      "Epoch 70: 0.3975617019584895 Val: 0.440812179252963\n",
      "Epoch 71: 0.3980888494996212 Val: 0.4409784180312433\n",
      "Epoch 72: 0.39724715279891354 Val: 0.43987478575201977\n",
      "Epoch 73: 0.3966087392627391 Val: 0.4404625518330128\n",
      "Epoch 74: 0.39383248384757963 Val: 0.4407488722036316\n",
      "Epoch 75: 0.3929035853911943 Val: 0.4400257722509599\n",
      "Epoch 76: 0.3883319136273166 Val: 0.4407056997253626\n",
      "Epoch 77: 0.39490118668218366 Val: 0.4412813154096896\n",
      "Epoch 78: 0.39718651621865586 Val: 0.44160644023491663\n",
      "Epoch 79: 0.38976764037470113 Val: 0.4421230225025997\n",
      "Epoch 80: 0.39240874217764676 Val: 0.44226424116323426\n",
      "Epoch 81: 0.39245723758577766 Val: 0.44159054674793025\n",
      "Epoch 82: 0.39349311606231824 Val: 0.44041599104428863\n",
      "Epoch 83: 0.393712316607146 Val: 0.44083803912478503\n",
      "Epoch 84: 0.39111898276837953 Val: 0.44044784311548435\n",
      "Epoch 85: 0.38606545999980296 Val: 0.4396094624906677\n",
      "Epoch 86: 0.39731458954746945 Val: 0.43952296781051686\n",
      "Epoch 87: 0.3969895683596487 Val: 0.4396568858175961\n",
      "Epoch 88: 0.3912089104075068 Val: 0.44001415890638335\n",
      "Epoch 89: 0.3965822100104772 Val: 0.4401777059144941\n",
      "Epoch 90: 0.40041353028985954 Val: 0.4403566256318076\n",
      "Epoch 91: 0.390365154112401 Val: 0.440845046840837\n",
      "Epoch 92: 0.3892532947352114 Val: 0.44055410782224896\n",
      "Epoch 93: 0.3967417267940504 Val: 0.44038058791958024\n",
      "Epoch 94: 0.3968723425416134 Val: 0.4401383709175188\n",
      "Epoch 95: 0.3938552411682403 Val: 0.44040155248023544\n",
      "Epoch 96: 0.3937801326871453 Val: 0.4408225687697479\n",
      "Epoch 97: 0.394651409542614 Val: 0.44071476776852136\n",
      "Epoch 98: 0.3973333162042592 Val: 0.44068931475434286\n",
      "Epoch 99: 0.39451572691913145 Val: 0.4402132782919822\n"
     ]
    }
   ],
   "source": [
    "cnn_model = ConvolutionalNeuralNet().cuda() # Don't forget to add .to(device=device)\n",
    "criterion = torch.nn.L1Loss(reduction = 'sum')\n",
    "optimizer = torch.optim.AdamW(cnn_model.parameters(), lr = 0.001, weight_decay=0.1) \n",
    "scheduler = torch.optim.lr_scheduler.ReduceLROnPlateau(optimizer, factor = 0.2, patience = 5, verbose=True)\n",
    "\n",
    "for epoch in range(100):\n",
    "    epoch_loss = 0\n",
    "    cnn_model.train()\n",
    "    for batch_idx, (images, labels) in enumerate(trainloader):\n",
    "        images = images.cuda()\n",
    "        labels = labels.cuda() # Put the labels on GPU as well\n",
    "\n",
    "        optimizer.zero_grad()                 # resets the information from last time\n",
    "        pred_y = cnn_model(images)            # calculates the predictions\n",
    "        loss = criterion(pred_y, labels)      # calculates the loss\n",
    "        loss.backward()                       # gradient descent, part 1\n",
    "        optimizer.step()                      # gradient descent, part 2\n",
    "        epoch_loss += loss.item()\n",
    "    epoch_loss /= len(train_dataset)\n",
    "    \n",
    "    cnn_model.eval()\n",
    "    val_loss = 0\n",
    "    with torch.no_grad():\n",
    "        for batch_idx, (images, labels) in enumerate(testloader):       \n",
    "            output = cnn_model(images.cuda())\n",
    "            labels = labels.cuda()\n",
    "            loss = criterion(output, labels)\n",
    "            val_loss += loss.item()\n",
    "        val_loss /= len(test_dataset)\n",
    "        \n",
    "    print(f\"Epoch {epoch}: {epoch_loss} Val: {val_loss}\")\n",
    "    scheduler.step(val_loss)"
   ]
  },
  {
   "cell_type": "markdown",
   "metadata": {},
   "source": [
    "### Create Graph"
   ]
  },
  {
   "cell_type": "code",
   "execution_count": 1,
   "metadata": {},
   "outputs": [],
   "source": [
    "lines = '''Epoch 0: 0.4814772550300632 Val: 0.5419065651226369\n",
    "Epoch 1: 0.4847436451591184 Val: 0.5169670606229085\n",
    "Epoch 2: 0.48007071371035726 Val: 0.5034466473315763\n",
    "Epoch 3: 0.4736311899706922 Val: 0.5025366890552507\n",
    "Epoch 4: 0.4665974689706024 Val: 0.5442697765884139\n",
    "Epoch 5: 0.4652449432509897 Val: 0.49167734608308444\n",
    "Epoch 6: 0.4619477113800733 Val: 0.4948506339011339\n",
    "Epoch 7: 0.45015162309723583 Val: 0.5846555013298581\n",
    "Epoch 8: 0.45456826419573726 Val: 0.5277107193201476\n",
    "Epoch 9: 0.4513655914854041 Val: 0.5189569427698546\n",
    "Epoch 10: 0.43868932852296016 Val: 0.5106009883685324\n",
    "Epoch 11: 0.4433459598387303 Val: 0.6135136535956998\n",
    "Epoch    12: reducing learning rate of group 0 to 2.0000e-04.\n",
    "Epoch 12: 0.4327781052867393 Val: 0.4623156993462364\n",
    "Epoch 13: 0.4281290131299485 Val: 0.6019314547854479\n",
    "Epoch 14: 0.427952431135648 Val: 0.47313800199853684\n",
    "Epoch 15: 0.42124077065643173 Val: 0.4642666826476009\n",
    "Epoch 16: 0.42320397210228067 Val: 0.4580308243683174\n",
    "Epoch 17: 0.42229916782122556 Val: 0.44751608982021085\n",
    "Epoch 18: 0.4180434701688621 Val: 0.4487593784267178\n",
    "Epoch 19: 0.4153541402431882 Val: 0.44981093292757107\n",
    "Epoch 20: 0.41185177858634914 Val: 0.5178853904021071\n",
    "Epoch 21: 0.4152076361959825 Val: 0.5231652276100965\n",
    "Epoch 22: 0.4135700097533085 Val: 0.4455852768933814\n",
    "Epoch 23: 0.41085602200084737 Val: 0.5409121399446559\n",
    "Epoch 24: 0.412087420818517 Val: 0.6292602063852772\n",
    "Epoch 25: 0.4142619509333452 Val: 0.4468383984354169\n",
    "Epoch 26: 0.4077300854327967 Val: 0.685072501771686\n",
    "Epoch 27: 0.40881721684750955 Val: 0.46972337273607484\n",
    "Epoch 28: 0.4133657891654113 Val: 0.5064313387301188\n",
    "Epoch    29: reducing learning rate of group 0 to 4.0000e-05.\n",
    "Epoch 29: 0.4013686227156977 Val: 0.4436752918230389\n",
    "Epoch 30: 0.40370565166387856 Val: 0.44122886657714844\n",
    "Epoch 31: 0.3977505688175492 Val: 0.4413850022664249\n",
    "Epoch 32: 0.4016878239242485 Val: 0.4439276216786876\n",
    "Epoch 33: 0.40391856822197747 Val: 0.4414270680919035\n",
    "Epoch 34: 0.39493607320058505 Val: 0.4414205258209958\n",
    "Epoch 35: 0.3942470567643375 Val: 0.4490568727356582\n",
    "Epoch 36: 0.39271359978235354 Val: 0.44187735860258237\n",
    "Epoch    37: reducing learning rate of group 0 to 8.0000e-06.\n",
    "Epoch 37: 0.3968207376420231 Val: 0.4392501030358845\n",
    "Epoch 38: 0.39645614110835464 Val: 0.4391535410702025\n",
    "Epoch 39: 0.3980788893763795 Val: 0.43982096987779634\n",
    "Epoch 40: 0.3974194069079754 Val: 0.4433883660482465\n",
    "Epoch 41: 0.39444722402256166 Val: 0.4401729766012459\n",
    "Epoch 42: 0.38867057834505503 Val: 0.44049677669798554\n",
    "Epoch 43: 0.39395329856017247 Val: 0.4413787008552421\n",
    "Epoch 44: 0.39766851091598715 Val: 0.4402423474568963\n",
    "Epoch    45: reducing learning rate of group 0 to 1.6000e-06.\n",
    "Epoch 45: 0.39330128126614833 Val: 0.44034749574628707\n",
    "Epoch 46: 0.3961403372041848 Val: 0.44081430467729277\n",
    "Epoch 47: 0.3936155259341937 Val: 0.4400029166159776\n",
    "Epoch 48: 0.3973903874110748 Val: 0.439359703975326\n",
    "Epoch 49: 0.3926104173531981 Val: 0.4408456294609825\n",
    "Epoch 50: 0.39673998537619554 Val: 0.44128059934023706\n",
    "Epoch    51: reducing learning rate of group 0 to 3.2000e-07.\n",
    "Epoch 51: 0.3906603586513365 Val: 0.44049532502991345\n",
    "Epoch 52: 0.3975156159678917 Val: 0.4406412209260179\n",
    "Epoch 53: 0.3993313733772312 Val: 0.4401069484879946\n",
    "Epoch 54: 0.39798699922091224 Val: 0.43914222717285156\n",
    "Epoch 55: 0.3924389244729628 Val: 0.44017408325403623\n",
    "Epoch 56: 0.3955168899399283 Val: 0.44000821878478796\n",
    "Epoch    57: reducing learning rate of group 0 to 6.4000e-08.\n",
    "Epoch 57: 0.3931662230213661 Val: 0.43952271718620844\n",
    "Epoch 58: 0.39858244566639445 Val: 0.43953365026480506\n",
    "Epoch 59: 0.39196038524131604 Val: 0.44003809515526676\n",
    "Epoch 60: 0.3972783204151376 Val: 0.4405898527073779\n",
    "Epoch 61: 0.3945478772903237 Val: 0.44132020449068765\n",
    "Epoch 62: 0.3935054445480552 Val: 0.44151154801300363\n",
    "Epoch    63: reducing learning rate of group 0 to 1.2800e-08.\n",
    "Epoch 63: 0.3937180634571298 Val: 0.44096562317207\n",
    "Epoch 64: 0.3981032315925632 Val: 0.4399217599081098\n",
    "Epoch 65: 0.39480492886940993 Val: 0.44049454711809904\n",
    "Epoch 66: 0.3930323322792224 Val: 0.44116347641668224\n",
    "Epoch 67: 0.3920409788465286 Val: 0.44082539724408565\n",
    "Epoch 68: 0.3970975251475792 Val: 0.4419872199309157\n",
    "Epoch    69: reducing learning rate of group 0 to 2.5600e-09.\n",
    "Epoch 69: 0.39164857222894917 Val: 0.44251386297440776\n",
    "Epoch 70: 0.3975617019584895 Val: 0.440812179252963\n",
    "Epoch 71: 0.3980888494996212 Val: 0.4409784180312433\n",
    "Epoch 72: 0.39724715279891354 Val: 0.43987478575201977\n",
    "Epoch 73: 0.3966087392627391 Val: 0.4404625518330128\n",
    "Epoch 74: 0.39383248384757963 Val: 0.4407488722036316\n",
    "Epoch 75: 0.3929035853911943 Val: 0.4400257722509599\n",
    "Epoch 76: 0.3883319136273166 Val: 0.4407056997253626\n",
    "Epoch 77: 0.39490118668218366 Val: 0.4412813154096896\n",
    "Epoch 78: 0.39718651621865586 Val: 0.44160644023491663\n",
    "Epoch 79: 0.38976764037470113 Val: 0.4421230225025997\n",
    "Epoch 80: 0.39240874217764676 Val: 0.44226424116323426\n",
    "Epoch 81: 0.39245723758577766 Val: 0.44159054674793025\n",
    "Epoch 82: 0.39349311606231824 Val: 0.44041599104428863\n",
    "Epoch 83: 0.393712316607146 Val: 0.44083803912478503\n",
    "Epoch 84: 0.39111898276837953 Val: 0.44044784311548435\n",
    "Epoch 85: 0.38606545999980296 Val: 0.4396094624906677\n",
    "Epoch 86: 0.39731458954746945 Val: 0.43952296781051686\n",
    "Epoch 87: 0.3969895683596487 Val: 0.4396568858175961\n",
    "Epoch 88: 0.3912089104075068 Val: 0.44001415890638335\n",
    "Epoch 89: 0.3965822100104772 Val: 0.4401777059144941\n",
    "Epoch 90: 0.40041353028985954 Val: 0.4403566256318076\n",
    "Epoch 91: 0.390365154112401 Val: 0.440845046840837\n",
    "Epoch 92: 0.3892532947352114 Val: 0.44055410782224896\n",
    "Epoch 93: 0.3967417267940504 Val: 0.44038058791958024\n",
    "Epoch 94: 0.3968723425416134 Val: 0.4401383709175188\n",
    "Epoch 95: 0.3938552411682403 Val: 0.44040155248023544\n",
    "Epoch 96: 0.3937801326871453 Val: 0.4408225687697479\n",
    "Epoch 97: 0.394651409542614 Val: 0.44071476776852136\n",
    "Epoch 98: 0.3973333162042592 Val: 0.44068931475434286\n",
    "Epoch 99: 0.39451572691913145 Val: 0.4402132782919822'''"
   ]
  },
  {
   "cell_type": "code",
   "execution_count": 56,
   "metadata": {},
   "outputs": [],
   "source": [
    "train = []\n",
    "val = []\n",
    "for line in lines.split(\"\\n\"):\n",
    "    if (\"reducing\" in line):\n",
    "        continue\n",
    "    line = line.split(\" \")\n",
    "    train.append(float(line[2]))\n",
    "    val.append(float(line[4]))"
   ]
  },
  {
   "cell_type": "code",
   "execution_count": 60,
   "metadata": {},
   "outputs": [
    {
     "data": {
      "text/plain": [
       "Text(0.5, 0, 'Epoch')"
      ]
     },
     "execution_count": 60,
     "metadata": {},
     "output_type": "execute_result"
    },
    {
     "data": {
      "image/png": "[encoded data removed]",
      "text/plain": [
       "<Figure size 432x288 with 1 Axes>"
      ]
     },
     "metadata": {
      "needs_background": "light"
     },
     "output_type": "display_data"
    }
   ],
   "source": [
    "plt.plot(np.array(train))\n",
    "plt.plot(np.array(val))\n",
    "plt.title(\"Training vs Validation Curve\")\n",
    "plt.legend([\"Training Loss\", \"Validation Loss\"])\n",
    "plt.ylabel(\"L1 Loss\")\n",
    "plt.xlabel(\"Epoch\")"
   ]
  },
  {
   "cell_type": "markdown",
   "metadata": {},
   "source": [
    "### Testing"
   ]
  },
  {
   "cell_type": "code",
   "execution_count": 51,
   "metadata": {},
   "outputs": [],
   "source": [
    "cnn_model = torch.load(\"model.pth\") "
   ]
  },
  {
   "cell_type": "code",
   "execution_count": 52,
   "metadata": {
    "scrolled": false
   },
   "outputs": [
    {
     "name": "stdout",
     "output_type": "stream",
     "text": [
      "34.74497\n"
     ]
    }
   ],
   "source": [
    "errs = []\n",
    "with torch.no_grad():\n",
    "    cnn_model.eval()\n",
    "    for batch_idx, (images, labels) in enumerate(trainloader):       \n",
    "        output = cnn_model(images.cuda()) * std + mean\n",
    "        labels = labels * std + mean\n",
    "        error = (abs(output.squeeze().cpu() - labels)).squeeze().numpy()\n",
    "        errs.append(error)\n",
    "totalErrs = []\n",
    "for err in errs:\n",
    "    for i in err:\n",
    "        totalErrs.append(i)\n",
    "print(np.mean(totalErrs))"
   ]
  },
  {
   "cell_type": "code",
   "execution_count": 53,
   "metadata": {
    "scrolled": false
   },
   "outputs": [
    {
     "name": "stdout",
     "output_type": "stream",
     "text": [
      "60.69643\n"
     ]
    }
   ],
   "source": [
    "errs = []\n",
    "with torch.no_grad():\n",
    "    for batch_idx, (images, labels) in enumerate(testloader):  \n",
    "        labels = labels * std + mean\n",
    "        error = (abs(labels.mean() - labels)).squeeze().numpy()\n",
    "        errs.append(error)\n",
    "totalErrs = []\n",
    "for err in errs:\n",
    "    for i in err:\n",
    "        totalErrs.append(i)\n",
    "print(np.mean(totalErrs))"
   ]
  },
  {
   "cell_type": "code",
   "execution_count": 54,
   "metadata": {
    "scrolled": true
   },
   "outputs": [
    {
     "name": "stdout",
     "output_type": "stream",
     "text": [
      "40.11769\n"
     ]
    }
   ],
   "source": [
    "errs = []\n",
    "with torch.no_grad():\n",
    "    cnn_model.eval()\n",
    "    for batch_idx, (images, labels) in enumerate(testloader):       \n",
    "        output = cnn_model(images.cuda()) * std + mean\n",
    "        labels = labels * std + mean\n",
    "        error = (abs(output.squeeze().cpu() - labels)).squeeze().numpy()\n",
    "        errs.append(error)\n",
    "totalErrs = []\n",
    "for err in errs:\n",
    "    for i in err:\n",
    "        totalErrs.append(i)\n",
    "print(np.mean(totalErrs))"
   ]
  },
  {
   "cell_type": "code",
   "execution_count": 128,
   "metadata": {},
   "outputs": [
    {
     "name": "stderr",
     "output_type": "stream",
     "text": [
      "/data/Jeremy/anaconda3/envs/jeremy/lib/python3.6/site-packages/torch/serialization.py:360: UserWarning: Couldn't retrieve source code for container of type ConvolutionalNeuralNet. It won't be checked for correctness upon loading.\n",
      "  \"type \" + obj.__name__ + \". It won't be checked \"\n",
      "/data/Jeremy/anaconda3/envs/jeremy/lib/python3.6/site-packages/torch/serialization.py:360: UserWarning: Couldn't retrieve source code for container of type InceptionBlock. It won't be checked for correctness upon loading.\n",
      "  \"type \" + obj.__name__ + \". It won't be checked \"\n"
     ]
    }
   ],
   "source": [
    "torch.save(cnn_model, \"model.pth\")"
   ]
  },
  {
   "cell_type": "markdown",
   "metadata": {},
   "source": [
    "### Pretrained"
   ]
  },
  {
   "cell_type": "code",
   "execution_count": 45,
   "metadata": {},
   "outputs": [],
   "source": [
    "import torchvision.models as models\n",
    "resnet18 = models.resnet18(pretrained=True)"
   ]
  },
  {
   "cell_type": "code",
   "execution_count": 46,
   "metadata": {},
   "outputs": [],
   "source": [
    "for param in resnet18.parameters():\n",
    "    param.requires_grad = False"
   ]
  },
  {
   "cell_type": "code",
   "execution_count": 47,
   "metadata": {},
   "outputs": [],
   "source": [
    "resnet18.fc = nn.Sequential(nn.Linear(512, 256), nn.ReLU(), nn.Linear(256, 1))"
   ]
  },
  {
   "cell_type": "code",
   "execution_count": 52,
   "metadata": {},
   "outputs": [
    {
     "name": "stdout",
     "output_type": "stream",
     "text": [
      "Params to learn:\n",
      "\t fc.0.weight\n",
      "\t fc.0.bias\n",
      "\t fc.2.weight\n",
      "\t fc.2.bias\n"
     ]
    }
   ],
   "source": [
    "params_to_update = resnet18.parameters()\n",
    "print(\"Params to learn:\")\n",
    "params_to_update = []\n",
    "for name,param in resnet18.named_parameters():\n",
    "    if param.requires_grad == True:\n",
    "        params_to_update.append(param)\n",
    "        print(\"\\t\",name)"
   ]
  },
  {
   "cell_type": "code",
   "execution_count": 58,
   "metadata": {
    "scrolled": true
   },
   "outputs": [
    {
     "name": "stdout",
     "output_type": "stream",
     "text": [
      "Epoch 0: 0.357467125753036 Val: 0.38564424445159246\n",
      "Epoch 1: 0.3552654054429796 Val: 0.40567959486132993\n",
      "Epoch 2: 0.34752213849802704 Val: 0.38434275049362737\n",
      "Epoch 3: 0.34073979766280565 Val: 0.39661747347699466\n",
      "Epoch 4: 0.34897104562695486 Val: 0.4113430019712796\n",
      "Epoch 5: 0.3364511621061456 Val: 0.3998685683647211\n",
      "Epoch 6: 0.34450908607065783 Val: 0.3896087207933412\n",
      "Epoch 7: 0.3459161744967129 Val: 0.4147815634734439\n",
      "Epoch 8: 0.3399242471765589 Val: 0.40599924630492273\n",
      "Epoch     9: reducing learning rate of group 0 to 2.0000e-04.\n",
      "Epoch 9: 0.3319251255593813 Val: 0.38350708815303164\n",
      "Epoch 10: 0.3236929298077942 Val: 0.39061297987499377\n",
      "Epoch 11: 0.3215346849364158 Val: 0.3859180290333546\n",
      "Epoch 12: 0.3227650787044034 Val: 0.3904618555611938\n",
      "Epoch 13: 0.3144740360334016 Val: 0.3893326111953624\n",
      "Epoch 14: 0.32401554588708087 Val: 0.3996538959280418\n",
      "Epoch 15: 0.3274257977803548 Val: 0.3854815768499444\n",
      "Epoch    16: reducing learning rate of group 0 to 4.0000e-05.\n",
      "Epoch 16: 0.3190108068826127 Val: 0.3880907949739999\n",
      "Epoch 17: 0.32278784915042724 Val: 0.3874639977503867\n",
      "Epoch 18: 0.31790413007113877 Val: 0.38484357047255024\n",
      "Epoch 19: 0.3175810825677566 Val: 0.38960255323535337\n",
      "Epoch 20: 0.3180238801125286 Val: 0.38861459189087805\n",
      "Epoch 21: 0.31646794532762423 Val: 0.3883453598857796\n",
      "Epoch    22: reducing learning rate of group 0 to 8.0000e-06.\n",
      "Epoch 22: 0.32185500513308896 Val: 0.3874870077536924\n",
      "Epoch 23: 0.32210426397845016 Val: 0.38769093395149623\n",
      "Epoch 24: 0.31977612883956347 Val: 0.38697075669782877\n",
      "Epoch 25: 0.320813038572012 Val: 0.38774438147997337\n",
      "Epoch 26: 0.32092632145688227 Val: 0.38874105119357144\n",
      "Epoch 27: 0.31608053069476305 Val: 0.3885152322532487\n",
      "Epoch    28: reducing learning rate of group 0 to 1.6000e-06.\n",
      "Epoch 28: 0.3239765125187196 Val: 0.38860561029754415\n",
      "Epoch 29: 0.30956077659781855 Val: 0.38856281155217304\n",
      "Epoch 30: 0.3145041070497435 Val: 0.3880158166815765\n",
      "Epoch 31: 0.3186923679641105 Val: 0.3897170707257125\n",
      "Epoch 32: 0.3169452761426384 Val: 0.38943836636786916\n",
      "Epoch 33: 0.32787523572407073 Val: 0.38866564305159296\n",
      "Epoch    34: reducing learning rate of group 0 to 3.2000e-07.\n",
      "Epoch 34: 0.31891130518030236 Val: 0.38861241131803415\n",
      "Epoch 35: 0.31564731446523514 Val: 0.38774536647935853\n",
      "Epoch 36: 0.3236359221174183 Val: 0.3895017456834334\n",
      "Epoch 37: 0.3115626659763343 Val: 0.38865314956999175\n",
      "Epoch 38: 0.32325111032583514 Val: 0.38770657908307377\n",
      "Epoch 39: 0.3198843876941284 Val: 0.38870618987257466\n",
      "Epoch    40: reducing learning rate of group 0 to 6.4000e-08.\n"
     ]
    }
   ],
   "source": [
    "resnet18 = resnet18.cuda()\n",
    "criterion = torch.nn.L1Loss(reduction = 'sum')\n",
    "optimizer = torch.optim.Adam(params_to_update, lr = 0.001, weight_decay=0.01) \n",
    "scheduler = torch.optim.lr_scheduler.ReduceLROnPlateau(optimizer, factor = 0.2, patience = 5, verbose=True)\n",
    "\n",
    "for epoch in range(40):\n",
    "    epoch_loss = 0\n",
    "    resnet18.train()\n",
    "    for batch_idx, (images, labels) in enumerate(trainloader):\n",
    "        images = images.cuda()\n",
    "        labels = labels.cuda() # Put the labels on GPU as well\n",
    "        labels = torch.clamp(labels, -2, 3)\n",
    "\n",
    "        optimizer.zero_grad()                 # resets the information from last time\n",
    "        pred_y = resnet18(images).squeeze()            # calculates the predictions\n",
    "        loss = criterion(pred_y, labels)      # calculates the loss\n",
    "        loss.backward()                       # gradient descent, part 1\n",
    "        optimizer.step()                      # gradient descent, part 2\n",
    "        epoch_loss += loss.item()\n",
    "    epoch_loss /= len(train_dataset)\n",
    "    \n",
    "    resnet18.eval()\n",
    "    val_loss = 0\n",
    "    with torch.no_grad():\n",
    "        for batch_idx, (images, labels) in enumerate(testloader):       \n",
    "            output = resnet18(images.cuda()).squeeze()\n",
    "            labels = labels.cuda()\n",
    "            loss = criterion(output, labels)\n",
    "            val_loss += loss.item()\n",
    "        val_loss /= len(test_dataset)\n",
    "        \n",
    "    print(f\"Epoch {epoch}: {epoch_loss} Val: {val_loss}\")\n",
    "    scheduler.step(val_loss)"
   ]
  },
  {
   "cell_type": "code",
   "execution_count": 59,
   "metadata": {},
   "outputs": [
    {
     "name": "stdout",
     "output_type": "stream",
     "text": [
      "37.054287\n"
     ]
    }
   ],
   "source": [
    "errs = []\n",
    "with torch.no_grad():\n",
    "    resnet18.eval()\n",
    "    for batch_idx, (images, labels) in enumerate(testloader):       \n",
    "        output = resnet18(images.cuda()) * std + mean\n",
    "        labels = labels * std + mean\n",
    "        error = (abs(output.squeeze().cpu() - labels)).squeeze().numpy()\n",
    "        errs.append(error)\n",
    "totalErrs = []\n",
    "for err in errs:\n",
    "    for i in err:\n",
    "        totalErrs.append(i)\n",
    "print(np.mean(totalErrs))"
   ]
  },
  {
   "cell_type": "code",
   "execution_count": 55,
   "metadata": {},
   "outputs": [],
   "source": [
    "torch.save(resnet18, \"pretrained.pth\")"
   ]
  }
 ],
 "metadata": {
  "kernelspec": {
   "display_name": "Python 3",
   "language": "python",
   "name": "python3"
  },
  "language_info": {
   "codemirror_mode": {
    "name": "ipython",
    "version": 3
   },
   "file_extension": ".py",
   "mimetype": "text/x-python",
   "name": "python",
   "nbconvert_exporter": "python",
   "pygments_lexer": "ipython3",
   "version": "3.6.12"
  }
 },
 "nbformat": 4,
 "nbformat_minor": 4
}
